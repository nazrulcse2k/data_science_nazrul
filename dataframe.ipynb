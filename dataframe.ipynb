{
 "cells": [
  {
   "cell_type": "code",
   "execution_count": 2,
   "metadata": {},
   "outputs": [],
   "source": [
    "#import beautifulsoup\n",
    "from bs4 import BeautifulSoup"
   ]
  },
  {
   "cell_type": "code",
   "execution_count": 3,
   "metadata": {},
   "outputs": [],
   "source": [
    "#fetch html contents\n",
    "import requests\n",
    "url=\"https://en.wikipedia.org/wiki/List_of_postal_codes_of_Canada:_M\"\n",
    "\n",
    "# Make a GET request to fetch the raw HTML content\n",
    "html_content = requests.get(url).text\n",
    "soup = BeautifulSoup(html_content, 'html.parser')\n",
    "#print(soup.prettify())"
   ]
  },
  {
   "cell_type": "code",
   "execution_count": 4,
   "metadata": {},
   "outputs": [],
   "source": [
    "#retrieve the table\n",
    "address_table = soup.find(\"table\", attrs={\"class\": \"wikitable\"})\n",
    "address_table_data = address_table.tbody.find_all(\"tr\")\n",
    "#address_table_data"
   ]
  },
  {
   "cell_type": "code",
   "execution_count": 10,
   "metadata": {},
   "outputs": [
    {
     "name": "stdout",
     "output_type": "stream",
     "text": [
      "['Postal Code', 'Borough', 'Neighborhood']\n"
     ]
    }
   ],
   "source": [
    "#retrieve the headers\n",
    "#address_table_data[0]\n",
    "headers_data = address_table_data[0].find_all(\"th\")\n",
    "headers_data\n",
    "headers = []\n",
    "for header in headers_data:\n",
    "    headers.append(header.text.replace('\\n', ' ').strip())\n",
    "\n",
    "print(headers)"
   ]
  },
  {
   "cell_type": "code",
   "execution_count": 21,
   "metadata": {},
   "outputs": [],
   "source": [
    "#data frame in panda\n",
    "import pandas as pd\n",
    "import numpy as np\n",
    "# Get all the rows of table\n",
    "table_data = []\n",
    "for tr in address_table_data: # find all tr's from table's tbody\n",
    "    #print(tr)\n",
    "    cols = tr.find_all('td')\n",
    "    cols = [td.text.replace('\\n', '').strip() for td in cols]\n",
    "    table_data.append([td for td in cols if td])\n",
    "\n",
    "#table_data\n",
    "df = pd.DataFrame(table_data, columns = headers)\n",
    "#print(df)\n"
   ]
  },
  {
   "cell_type": "code",
   "execution_count": 22,
   "metadata": {},
   "outputs": [
    {
     "data": {
      "text/plain": [
       "(103, 3)"
      ]
     },
     "execution_count": 22,
     "metadata": {},
     "output_type": "execute_result"
    }
   ],
   "source": [
    "# drop cells with 'Not assigned' in Borough\n",
    "df['Borough'].replace('Not assigned', np.nan, inplace=True)\n",
    "df['Borough'].replace('None', np.nan, inplace=True)\n",
    "df.dropna(subset=['Borough'], inplace=True)\n",
    "df.shape"
   ]
  },
  {
   "cell_type": "code",
   "execution_count": null,
   "metadata": {},
   "outputs": [],
   "source": []
  }
 ],
 "metadata": {
  "kernelspec": {
   "display_name": "Python 3",
   "language": "python",
   "name": "python3"
  },
  "language_info": {
   "codemirror_mode": {
    "name": "ipython",
    "version": 3
   },
   "file_extension": ".py",
   "mimetype": "text/x-python",
   "name": "python",
   "nbconvert_exporter": "python",
   "pygments_lexer": "ipython3",
   "version": "3.8.2"
  }
 },
 "nbformat": 4,
 "nbformat_minor": 4
}
